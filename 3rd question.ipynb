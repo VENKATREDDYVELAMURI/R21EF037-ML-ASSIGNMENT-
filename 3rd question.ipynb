{
 "cells": [
  {
   "cell_type": "code",
   "execution_count": 1,
   "id": "bc2caa74",
   "metadata": {},
   "outputs": [],
   "source": [
    "import pandas as pd\n",
    "from sklearn.model_selection import train_test_split\n",
    "from sklearn.linear_model import LinearRegression\n",
    "from sklearn.tree import DecisionTreeRegressor\n",
    "from sklearn.ensemble import RandomForestRegressor\n",
    "from sklearn.svm import SVR\n",
    "from sklearn.neural_network import MLPRegressor\n",
    "from sklearn.metrics import mean_squared_error, r2_score"
   ]
  },
  {
   "cell_type": "code",
   "execution_count": 2,
   "id": "1f52c0f2",
   "metadata": {},
   "outputs": [],
   "source": [
    "data = {\n",
    "    'Units Sold': [200, 201, 202, 203, 204, 205, 206, 207, 208, 209],\n",
    "    'Manufacturing Price': [3.00, 3.00, 3.00, 3.00, 3.00, 3.00, 3.00, 3.00, 5.00, 5.00],\n",
    "    'Sale Price': [20.00, 20.00, 15.00, 15.00, 15.00, 15.00, 350.00, 350.01, 15.00, 15.01],\n",
    "    'Gross Sales': [32370.00, 26420.00, 32670.00, 13320.00, 37050.00, 37050.00, 529550.00, 529550.00, 13815.00, 30216.00]\n",
    "}\n",
    "df = pd.DataFrame(data)"
   ]
  },
  {
   "cell_type": "code",
   "execution_count": 3,
   "id": "08d44285",
   "metadata": {},
   "outputs": [],
   "source": [
    "X = df[['Units Sold', 'Manufacturing Price', 'Sale Price']]\n",
    "y = df['Gross Sales']"
   ]
  },
  {
   "cell_type": "code",
   "execution_count": 4,
   "id": "f08e1a56",
   "metadata": {},
   "outputs": [],
   "source": [
    "X_train, X_test, y_train, y_test = train_test_split(X, y, test_size=0.2, random_state=42)"
   ]
  },
  {
   "cell_type": "code",
   "execution_count": 6,
   "id": "68a7021a",
   "metadata": {},
   "outputs": [],
   "source": [
    "models = {\n",
    "    'Linear Regression': LinearRegression(),\n",
    "    'Decision Tree Regressor': DecisionTreeRegressor(),\n",
    "    'Random Forest Regressor': RandomForestRegressor(),\n",
    "    'Support Vector Regressor': SVR(),\n",
    "    'MLP Regressor': MLPRegressor()\n",
    "}"
   ]
  },
  {
   "cell_type": "code",
   "execution_count": 10,
   "id": "acc58993",
   "metadata": {},
   "outputs": [],
   "source": [
    "from sklearn.ensemble import GradientBoostingRegressor"
   ]
  },
  {
   "cell_type": "code",
   "execution_count": 11,
   "id": "d1e20538",
   "metadata": {},
   "outputs": [],
   "source": [
    "models['Gradient Boosting Regressor'] = GradientBoostingRegressor()\n",
    "\n",
    "results = []\n"
   ]
  }
 ],
 "metadata": {
  "kernelspec": {
   "display_name": "Python 3 (ipykernel)",
   "language": "python",
   "name": "python3"
  },
  "language_info": {
   "codemirror_mode": {
    "name": "ipython",
    "version": 3
   },
   "file_extension": ".py",
   "mimetype": "text/x-python",
   "name": "python",
   "nbconvert_exporter": "python",
   "pygments_lexer": "ipython3",
   "version": "3.11.5"
  }
 },
 "nbformat": 4,
 "nbformat_minor": 5
}
